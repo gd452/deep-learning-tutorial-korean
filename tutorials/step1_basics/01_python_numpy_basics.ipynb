{
 "cells": [
  {
   "cell_type": "markdown",
   "metadata": {},
   "source": [
    "# Step 1: Python과 NumPy 기초\n",
    "\n",
    "딥러닝을 시작하기 전에 Python과 NumPy의 기초를 탄탄히 다져봅시다.\n",
    "\n",
    "## 학습 목표\n",
    "1. Python의 기본 자료구조 이해\n",
    "2. NumPy 배열 다루기\n",
    "3. 행렬 연산 이해하기\n",
    "4. 딥러닝에 필요한 수학 함수들 익히기"
   ]
  },
  {
   "cell_type": "markdown",
   "metadata": {},
   "source": [
    "## 1. Python 기본 자료구조 복습"
   ]
  },
  {
   "cell_type": "code",
   "execution_count": null,
   "metadata": {},
   "outputs": [],
   "source": [
    "# 리스트 (List)\n",
    "numbers = [1, 2, 3, 4, 5]\n",
    "print(\"리스트:\", numbers)\n",
    "\n",
    "# 리스트 컴프리헨션 - 딥러닝에서 자주 사용됩니다\n",
    "squared = [x**2 for x in numbers]\n",
    "print(\"제곱된 값들:\", squared)\n",
    "\n",
    "# 딕셔너리 (Dictionary) - 모델 파라미터 저장 등에 사용\n",
    "model_params = {\n",
    "    'learning_rate': 0.01,\n",
    "    'epochs': 100,\n",
    "    'batch_size': 32\n",
    "}\n",
    "print(\"\\n모델 파라미터:\", model_params)"
   ]
  },
  {
   "cell_type": "markdown",
   "metadata": {},
   "source": [
    "## 2. NumPy 소개\n",
    "\n",
    "NumPy는 Python에서 수치 연산을 위한 핵심 라이브러리입니다. 딥러닝의 기초가 되는 행렬 연산을 효율적으로 수행할 수 있습니다."
   ]
  },
  {
   "cell_type": "code",
   "execution_count": null,
   "metadata": {},
   "outputs": [],
   "source": [
    "import numpy as np\n",
    "\n",
    "# NumPy 배열 생성\n",
    "arr = np.array([1, 2, 3, 4, 5])\n",
    "print(\"NumPy 배열:\", arr)\n",
    "print(\"배열의 타입:\", type(arr))\n",
    "print(\"배열의 형태:\", arr.shape)\n",
    "print(\"배열의 차원:\", arr.ndim)"
   ]
  },
  {
   "cell_type": "markdown",
   "metadata": {},
   "source": [
    "### 2.1 다차원 배열 (텐서)\n",
    "\n",
    "딥러닝에서는 다차원 배열을 텐서(Tensor)라고 부릅니다.\n",
    "- 1차원 텐서: 벡터 (Vector)\n",
    "- 2차원 텐서: 행렬 (Matrix)\n",
    "- 3차원 이상: 텐서 (Tensor)"
   ]
  },
  {
   "cell_type": "code",
   "execution_count": null,
   "metadata": {},
   "outputs": [],
   "source": [
    "# 1차원 배열 (벡터)\n",
    "vector = np.array([1, 2, 3])\n",
    "print(\"벡터:\", vector)\n",
    "print(\"형태:\", vector.shape)\n",
    "\n",
    "# 2차원 배열 (행렬)\n",
    "matrix = np.array([[1, 2, 3],\n",
    "                   [4, 5, 6]])\n",
    "print(\"\\n행렬:\")\n",
    "print(matrix)\n",
    "print(\"형태:\", matrix.shape)  # (행, 열)\n",
    "\n",
    "# 3차원 배열 (텐서)\n",
    "tensor = np.array([[[1, 2], [3, 4]],\n",
    "                   [[5, 6], [7, 8]]])\n",
    "print(\"\\n3차원 텐서:\")\n",
    "print(tensor)\n",
    "print(\"형태:\", tensor.shape)  # (깊이, 행, 열)"
   ]
  },
  {
   "cell_type": "markdown",
   "metadata": {},
   "source": [
    "### 2.2 유용한 배열 생성 함수들"
   ]
  },
  {
   "cell_type": "code",
   "execution_count": null,
   "metadata": {},
   "outputs": [],
   "source": [
    "# zeros: 0으로 채워진 배열\n",
    "zeros = np.zeros((3, 4))\n",
    "print(\"영행렬 (3x4):\")\n",
    "print(zeros)\n",
    "\n",
    "# ones: 1로 채워진 배열\n",
    "ones = np.ones((2, 3))\n",
    "print(\"\\n1로 채워진 행렬 (2x3):\")\n",
    "print(ones)\n",
    "\n",
    "# random: 무작위 값으로 채워진 배열 (가중치 초기화에 사용)\n",
    "random_array = np.random.randn(3, 3)  # 표준정규분포\n",
    "print(\"\\n무작위 행렬 (3x3):\")\n",
    "print(random_array)\n",
    "\n",
    "# arange: 연속된 값들로 배열 생성\n",
    "sequence = np.arange(0, 10, 2)  # 0부터 10까지 2씩 증가\n",
    "print(\"\\n연속 배열:\", sequence)"
   ]
  },
  {
   "cell_type": "markdown",
   "metadata": {},
   "source": [
    "## 3. 배열 연산 (딥러닝의 핵심!)\n",
    "\n",
    "딥러닝은 결국 행렬 연산의 연속입니다. NumPy로 이를 효율적으로 수행할 수 있습니다."
   ]
  },
  {
   "cell_type": "code",
   "execution_count": null,
   "metadata": {},
   "outputs": [],
   "source": [
    "# 기본 연산\n",
    "a = np.array([[1, 2], [3, 4]])\n",
    "b = np.array([[5, 6], [7, 8]])\n",
    "\n",
    "print(\"행렬 a:\")\n",
    "print(a)\n",
    "print(\"\\n행렬 b:\")\n",
    "print(b)\n",
    "\n",
    "# 요소별 연산 (element-wise)\n",
    "print(\"\\n요소별 덧셈 (a + b):\")\n",
    "print(a + b)\n",
    "\n",
    "print(\"\\n요소별 곱셈 (a * b):\")\n",
    "print(a * b)\n",
    "\n",
    "# 행렬 곱셈 (dot product) - 신경망의 순전파에 사용\n",
    "print(\"\\n행렬 곱셈 (a @ b):\")\n",
    "print(a @ b)  # 또는 np.dot(a, b)"
   ]
  },
  {
   "cell_type": "markdown",
   "metadata": {},
   "source": [
    "### 3.1 브로드캐스팅 (Broadcasting)\n",
    "\n",
    "서로 다른 크기의 배열을 연산할 때 자동으로 크기를 맞춰주는 기능입니다."
   ]
  },
  {
   "cell_type": "code",
   "execution_count": null,
   "metadata": {},
   "outputs": [],
   "source": [
    "# 브로드캐스팅 예제\n",
    "matrix = np.array([[1, 2, 3],\n",
    "                   [4, 5, 6]])\n",
    "scalar = 10\n",
    "vector = np.array([1, 2, 3])\n",
    "\n",
    "print(\"원본 행렬:\")\n",
    "print(matrix)\n",
    "\n",
    "# 스칼라와의 연산\n",
    "print(\"\\n행렬 + 스칼라:\")\n",
    "print(matrix + scalar)\n",
    "\n",
    "# 벡터와의 연산 (각 행에 벡터를 더함)\n",
    "print(\"\\n행렬 + 벡터:\")\n",
    "print(matrix + vector)"
   ]
  },
  {
   "cell_type": "markdown",
   "metadata": {},
   "source": [
    "## 4. 딥러닝에 필요한 수학 함수들"
   ]
  },
  {
   "cell_type": "code",
   "execution_count": null,
   "metadata": {},
   "outputs": [],
   "source": [
    "# 지수 함수 (활성화 함수에 사용)\n",
    "x = np.array([-2, -1, 0, 1, 2])\n",
    "print(\"입력값 x:\", x)\n",
    "print(\"exp(x):\", np.exp(x))\n",
    "\n",
    "# 시그모이드 함수 (이진 분류에 사용)\n",
    "def sigmoid(x):\n",
    "    return 1 / (1 + np.exp(-x))\n",
    "\n",
    "print(\"\\nsigmoid(x):\", sigmoid(x))\n",
    "\n",
    "# ReLU 함수 (가장 많이 사용되는 활성화 함수)\n",
    "def relu(x):\n",
    "    return np.maximum(0, x)\n",
    "\n",
    "print(\"\\nReLU(x):\", relu(x))"
   ]
  },
  {
   "cell_type": "markdown",
   "metadata": {},
   "source": [
    "### 4.1 통계 함수들"
   ]
  },
  {
   "cell_type": "code",
   "execution_count": null,
   "metadata": {},
   "outputs": [],
   "source": [
    "# 데이터 생성\n",
    "data = np.random.randn(100, 5)  # 100개 샘플, 5개 특징\n",
    "\n",
    "# 평균과 표준편차\n",
    "print(\"전체 평균:\", np.mean(data))\n",
    "print(\"열별 평균:\", np.mean(data, axis=0))  # 각 특징의 평균\n",
    "print(\"\\n전체 표준편차:\", np.std(data))\n",
    "\n",
    "# 최댓값, 최솟값\n",
    "print(\"\\n최댓값:\", np.max(data))\n",
    "print(\"최솟값:\", np.min(data))\n",
    "\n",
    "# argmax, argmin (분류 문제에서 예측값 찾기)\n",
    "predictions = np.array([0.1, 0.3, 0.8, 0.2])\n",
    "print(\"\\n예측 확률:\", predictions)\n",
    "print(\"가장 높은 확률의 인덱스:\", np.argmax(predictions))"
   ]
  },
  {
   "cell_type": "markdown",
   "metadata": {},
   "source": [
    "## 5. 실습: 간단한 데이터 전처리\n",
    "\n",
    "딥러닝 모델에 데이터를 입력하기 전에 전처리가 필요합니다."
   ]
  },
  {
   "cell_type": "code",
   "execution_count": null,
   "metadata": {},
   "outputs": [],
   "source": [
    "# 데이터 정규화 (Normalization)\n",
    "# 각 특징의 평균을 0, 표준편차를 1로 만들기\n",
    "\n",
    "# 샘플 데이터 생성\n",
    "np.random.seed(42)  # 재현 가능한 결과를 위해\n",
    "raw_data = np.random.randn(5, 3) * 10 + 50  # 평균 50, 표준편차 10\n",
    "\n",
    "print(\"원본 데이터:\")\n",
    "print(raw_data)\n",
    "print(\"\\n원본 데이터 통계:\")\n",
    "print(f\"평균: {np.mean(raw_data, axis=0)}\")\n",
    "print(f\"표준편차: {np.std(raw_data, axis=0)}\")\n",
    "\n",
    "# 정규화\n",
    "mean = np.mean(raw_data, axis=0)\n",
    "std = np.std(raw_data, axis=0)\n",
    "normalized_data = (raw_data - mean) / std\n",
    "\n",
    "print(\"\\n정규화된 데이터:\")\n",
    "print(normalized_data)\n",
    "print(\"\\n정규화된 데이터 통계:\")\n",
    "print(f\"평균: {np.mean(normalized_data, axis=0)}\")\n",
    "print(f\"표준편차: {np.std(normalized_data, axis=0)}\")"
   ]
  },
  {
   "cell_type": "markdown",
   "metadata": {},
   "source": [
    "## 6. 미니 프로젝트: 선형 회귀를 위한 데이터 준비\n",
    "\n",
    "간단한 선형 관계를 가진 데이터를 생성하고 시각화해봅시다."
   ]
  },
  {
   "cell_type": "code",
   "execution_count": null,
   "metadata": {},
   "outputs": [],
   "source": [
    "import matplotlib.pyplot as plt\n",
    "\n",
    "# 선형 데이터 생성\n",
    "np.random.seed(42)\n",
    "X = np.random.rand(100, 1) * 10  # 0~10 사이의 100개 점\n",
    "y = 2 * X + 1 + np.random.randn(100, 1) * 2  # y = 2x + 1 + 노이즈\n",
    "\n",
    "# 데이터 시각화\n",
    "plt.figure(figsize=(8, 6))\n",
    "plt.scatter(X, y, alpha=0.6)\n",
    "plt.xlabel('X')\n",
    "plt.ylabel('y')\n",
    "plt.title('선형 회귀를 위한 샘플 데이터')\n",
    "plt.grid(True, alpha=0.3)\n",
    "plt.show()\n",
    "\n",
    "print(f\"X 형태: {X.shape}\")\n",
    "print(f\"y 형태: {y.shape}\")"
   ]
  },
  {
   "cell_type": "markdown",
   "metadata": {},
   "source": [
    "## 7. 연습 문제\n",
    "\n",
    "아래 문제들을 직접 풀어보세요!"
   ]
  },
  {
   "cell_type": "code",
   "execution_count": null,
   "metadata": {},
   "outputs": [],
   "source": [
    "# 문제 1: 3x3 단위 행렬(identity matrix) 만들기\n",
    "# 힌트: np.eye() 함수 사용\n",
    "identity = None  # 여기에 코드 작성\n",
    "\n",
    "# 문제 2: 1부터 9까지의 숫자로 3x3 행렬 만들기\n",
    "# 힌트: np.arange()와 reshape() 사용\n",
    "matrix_1_to_9 = None  # 여기에 코드 작성\n",
    "\n",
    "# 문제 3: 위에서 만든 행렬의 전치행렬(transpose) 구하기\n",
    "transposed = None  # 여기에 코드 작성\n",
    "\n",
    "# 문제 4: Softmax 함수 구현하기 (다중 클래스 분류에 사용)\n",
    "def softmax(x):\n",
    "    # 힌트: exp(x) / sum(exp(x))\n",
    "    # 수치 안정성을 위해 x - max(x)를 먼저 계산\n",
    "    pass  # 여기에 코드 작성"
   ]
  },
  {
   "cell_type": "markdown",
   "metadata": {},
   "source": [
    "## 정리\n",
    "\n",
    "이번 튜토리얼에서 배운 내용:\n",
    "1. Python의 기본 자료구조\n",
    "2. NumPy 배열의 생성과 조작\n",
    "3. 행렬 연산과 브로드캐스팅\n",
    "4. 딥러닝에 필요한 수학 함수들\n",
    "5. 데이터 전처리 기법\n",
    "\n",
    "다음 단계에서는 이러한 기초를 바탕으로 실제 신경망을 구현해보겠습니다!"
   ]
  }
 ],
 "metadata": {
  "kernelspec": {
   "display_name": "Python 3",
   "language": "python",
   "name": "python3"
  },
  "language_info": {
   "codemirror_mode": {
    "name": "ipython",
    "version": 3
   },
   "file_extension": ".py",
   "mimetype": "text/x-python",
   "name": "python",
   "nbconvert_exporter": "python",
   "pygments_lexer": "ipython3",
   "version": "3.8.0"
  }
 },
 "nbformat": 4,
 "nbformat_minor": 4
}